{
 "cells": [
  {
   "cell_type": "code",
   "execution_count": 1,
   "id": "40a3c128-8cd7-4e93-b642-0977b136b5dc",
   "metadata": {},
   "outputs": [
    {
     "name": "stdout",
     "output_type": "stream",
     "text": [
      "🔎 Looking for metadata at: C:\\Users\\ghosh\\OneDrive\\Desktop\\Skin-Disease-Detection\\skin-disease-detection\\data\\HAM10000\\HAM10000_metadata.csv\n",
      "✅ Metadata loaded. Shape: (10015, 7)\n",
      "🏷️ Detected classes: ['akiec', 'bcc', 'bkl', 'df', 'mel', 'nv', 'vasc']\n",
      "🎬 Performing patient-level split using lesion_id...\n",
      "📊 Patient-level split -> Train: 7002, Val: 1519, Test: 1494\n"
     ]
    },
    {
     "name": "stderr",
     "output_type": "stream",
     "text": [
      "Processing train: 100%|███████████████████████████████████████████████████████████| 7002/7002 [00:44<00:00, 155.62it/s]\n",
      "Processing val: 100%|█████████████████████████████████████████████████████████████| 1519/1519 [00:09<00:00, 154.08it/s]\n",
      "Processing test: 100%|████████████████████████████████████████████████████████████| 1494/1494 [00:08<00:00, 166.10it/s]\n"
     ]
    },
    {
     "name": "stdout",
     "output_type": "stream",
     "text": [
      "\n",
      "✅ Preprocessing complete! Data ready at C:\\Users\\ghosh\\OneDrive\\Desktop\\Skin-Disease-Detection\\skin-disease-detection\\data\\processed\n",
      "📑 Integrity report saved at preprocess_report.json\n",
      "🧮 Calculating dataset-specific mean and std for normalization...\n"
     ]
    },
    {
     "name": "stderr",
     "output_type": "stream",
     "text": [
      "Calculating mean and std: 100%|███████████████████████████████████████████████████| 7002/7002 [01:03<00:00, 109.58it/s]"
     ]
    },
    {
     "name": "stdout",
     "output_type": "stream",
     "text": [
      "✅ Dataset Mean: [0.7605020360086509, 0.5356541367350256, 0.5592819578269407]\n",
      "✅ Dataset Std: [0.14462861069807892, 0.16732806945409684, 0.18500818392360618]\n",
      "📊 Dataset-specific stats saved to dataset_stats.json\n",
      "\n",
      "💡 For skin disease detection (dermoscopic images), dataset-specific normalization is preferred. ImageNet normalization is fine for a quick prototype, but dataset-specific stats give the best accuracy.\n"
     ]
    },
    {
     "name": "stderr",
     "output_type": "stream",
     "text": [
      "\n"
     ]
    }
   ],
   "source": [
    "%run preprocess.py"
   ]
  },
  {
   "cell_type": "code",
   "execution_count": null,
   "id": "a097c4a5-f720-4470-854d-8c854113ecdb",
   "metadata": {},
   "outputs": [],
   "source": []
  }
 ],
 "metadata": {
  "kernelspec": {
   "display_name": "Python 3 (ipykernel)",
   "language": "python",
   "name": "python3"
  },
  "language_info": {
   "codemirror_mode": {
    "name": "ipython",
    "version": 3
   },
   "file_extension": ".py",
   "mimetype": "text/x-python",
   "name": "python",
   "nbconvert_exporter": "python",
   "pygments_lexer": "ipython3",
   "version": "3.13.7"
  }
 },
 "nbformat": 4,
 "nbformat_minor": 5
}
