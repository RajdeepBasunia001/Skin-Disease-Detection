{
 "cells": [
  {
   "cell_type": "code",
   "execution_count": 1,
   "id": "bade6f41-6aea-42b6-abdd-c62c6f6f2526",
   "metadata": {},
   "outputs": [
    {
     "name": "stdout",
     "output_type": "stream",
     "text": [
      "✅ CUDA available: True\n",
      "🔧 GPU: NVIDIA GeForce RTX 3050 Laptop GPU\n",
      "Downloading: \"https://download.pytorch.org/models/resnet18-f37072fd.pth\" to C:\\Users\\rajde/.cache\\torch\\hub\\checkpoints\\resnet18-f37072fd.pth\n"
     ]
    },
    {
     "name": "stderr",
     "output_type": "stream",
     "text": [
      "100%|█████████████████████████████████████████████████████████████████████████████| 44.7M/44.7M [00:22<00:00, 2.09MB/s]\n"
     ]
    },
    {
     "name": "stdout",
     "output_type": "stream",
     "text": [
      "Epoch 1 - Loss: 2.2186\n",
      "Epoch 2 - Loss: 0.1971\n",
      "🚀 Environment + GPU working!\n"
     ]
    }
   ],
   "source": [
    "import torch\n",
    "import torchvision\n",
    "from torchvision import transforms\n",
    "from torchvision.models import resnet18\n",
    "import matplotlib.pyplot as plt\n",
    "from PIL import Image\n",
    "import numpy as np\n",
    "\n",
    "print(\"✅ CUDA available:\", torch.cuda.is_available())\n",
    "if torch.cuda.is_available():\n",
    "    print(\"🔧 GPU:\", torch.cuda.get_device_name(0))\n",
    "\n",
    "# --- Dummy training pipeline just to check GPU ---\n",
    "model = resnet18(weights='IMAGENET1K_V1')\n",
    "model.fc = torch.nn.Linear(model.fc.in_features, 7)  # pretend 7 classes\n",
    "model = model.cuda()\n",
    "\n",
    "x = torch.randn(8, 3, 224, 224).cuda()  # fake images\n",
    "y = torch.randint(0, 7, (8,)).cuda()\n",
    "\n",
    "criterion = torch.nn.CrossEntropyLoss()\n",
    "optimizer = torch.optim.Adam(model.parameters(), lr=1e-3)\n",
    "\n",
    "model.train()\n",
    "for epoch in range(2):\n",
    "    optimizer.zero_grad()\n",
    "    out = model(x)\n",
    "    loss = criterion(out, y)\n",
    "    loss.backward()\n",
    "    optimizer.step()\n",
    "    print(f\"Epoch {epoch+1} - Loss: {loss.item():.4f}\")\n",
    "\n",
    "print(\"🚀 Environment + GPU working!\")"
   ]
  },
  {
   "cell_type": "code",
   "execution_count": null,
   "id": "5d22be71-5a43-49f0-9a01-cc90875d1f48",
   "metadata": {},
   "outputs": [],
   "source": []
  }
 ],
 "metadata": {
  "kernelspec": {
   "display_name": "Python 3 (ipykernel)",
   "language": "python",
   "name": "python3"
  },
  "language_info": {
   "codemirror_mode": {
    "name": "ipython",
    "version": 3
   },
   "file_extension": ".py",
   "mimetype": "text/x-python",
   "name": "python",
   "nbconvert_exporter": "python",
   "pygments_lexer": "ipython3",
   "version": "3.13.7"
  }
 },
 "nbformat": 4,
 "nbformat_minor": 5
}
