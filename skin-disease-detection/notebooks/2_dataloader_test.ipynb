{
 "cells": [
  {
   "cell_type": "code",
   "execution_count": 4,
   "id": "42ca1157-af31-4464-b9a1-157f92428360",
   "metadata": {},
   "outputs": [
    {
     "name": "stdout",
     "output_type": "stream",
     "text": [
      "✅ Project root added: C:\\Users\\rajde\\OneDrive\\Desktop\\Skin-Disease-Detection\\skin-disease-detection\n"
     ]
    }
   ],
   "source": [
    "import os, sys\n",
    "\n",
    "# Add project root to sys.path\n",
    "PROJECT_ROOT = r\"C:\\Users\\rajde\\OneDrive\\Desktop\\Skin-Disease-Detection\\skin-disease-detection\"\n",
    "if PROJECT_ROOT not in sys.path:\n",
    "    sys.path.insert(0, PROJECT_ROOT)\n",
    "\n",
    "print(\"✅ Project root added:\", PROJECT_ROOT)\n"
   ]
  },
  {
   "cell_type": "code",
   "execution_count": null,
   "id": "d9c9459d-4a70-4fba-bdad-3499888d7276",
   "metadata": {},
   "outputs": [],
   "source": []
  }
 ],
 "metadata": {
  "kernelspec": {
   "display_name": "Python 3 (ipykernel)",
   "language": "python",
   "name": "python3"
  },
  "language_info": {
   "codemirror_mode": {
    "name": "ipython",
    "version": 3
   },
   "file_extension": ".py",
   "mimetype": "text/x-python",
   "name": "python",
   "nbconvert_exporter": "python",
   "pygments_lexer": "ipython3",
   "version": "3.13.7"
  }
 },
 "nbformat": 4,
 "nbformat_minor": 5
}
